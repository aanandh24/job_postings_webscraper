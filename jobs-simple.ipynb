import requests
from bs4 import BeautifulSoup
import pandas as pd

# Define the URL for scraping
url = "https://jobs.lever.co/restaurant365/"

# Make a request to the page
response = requests.get(url, headers={'User-Agent': 'Mozilla/5.0'})
soup = BeautifulSoup(response.content, 'html.parser')

# Extract job titles using BeautifulSoup
postings = soup.select("div.posting-title h5.posting-name")

# Define the function to filter job titles by keywords
def filter_postings_by_keywords(postings, keywords):
    filtered_postings = []
    for posting in postings:
        title = posting.get_text(strip=True)
        if any(keyword.lower() in title.lower() for keyword in keywords):
            filtered_postings.append(title)
    return filtered_postings

# Predefined list of keywords for filtering job titles (modify this list as needed)
keywords = ["engineer", "data", "software"]  # <-- Change these keywords as necessary

# Filter postings based on predefined keywords
filtered_postings = filter_postings_by_keywords(postings, keywords)

# Prepare data for DataFrame and CSV output
job_data = {'Job Title': filtered_postings[:50]}  # Limit to top 50 matches
df = pd.DataFrame(job_data)

# Save to CSV
output_file = "filtered_job_postings.csv"
df.to_csv(output_file, index=False)
print(f"Filtered job postings saved to {output_file}")

# Display top 50 job titles in pandas
print(df.head(50))
